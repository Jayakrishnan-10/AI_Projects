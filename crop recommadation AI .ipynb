{
 "cells": [
  {
   "cell_type": "markdown",
   "id": "3556272c",
   "metadata": {},
   "source": [
    "INTRODUCTION"
   ]
  },
  {
   "cell_type": "markdown",
   "id": "55ae41b9",
   "metadata": {},
   "source": [
    "The main goal of this project is to build an AI model that recommends the most suitable crop for cultivation based on environmental factors such as temperature, humidity, pH value of the soil, and rainfall."
   ]
  },
  {
   "cell_type": "markdown",
   "id": "66e0d9be",
   "metadata": {},
   "source": [
    "IMPORT LIBARIES AND LOAD DATA "
   ]
  },
  {
   "cell_type": "code",
   "execution_count": 1,
   "id": "7a38d6f5",
   "metadata": {},
   "outputs": [
    {
     "name": "stdout",
     "output_type": "stream",
     "text": [
      "        N   P   K  temperature   humidity        ph    rainfall   label\n",
      "0      90  42  43    20.879744  82.002744  6.502985  202.935536    rice\n",
      "1      85  58  41    21.770462  80.319644  7.038096  226.655537    rice\n",
      "2      60  55  44    23.004459  82.320763  7.840207  263.964248    rice\n",
      "3      74  35  40    26.491096  80.158363  6.980401  242.864034    rice\n",
      "4      78  42  42    20.130175  81.604873  7.628473  262.717340    rice\n",
      "...   ...  ..  ..          ...        ...       ...         ...     ...\n",
      "2195  107  34  32    26.774637  66.413269  6.780064  177.774507  coffee\n",
      "2196   99  15  27    27.417112  56.636362  6.086922  127.924610  coffee\n",
      "2197  118  33  30    24.131797  67.225123  6.362608  173.322839  coffee\n",
      "2198  117  32  34    26.272418  52.127394  6.758793  127.175293  coffee\n",
      "2199  104  18  30    23.603016  60.396475  6.779833  140.937041  coffee\n",
      "\n",
      "[2200 rows x 8 columns]\n"
     ]
    }
   ],
   "source": [
    "import pandas as pd \n",
    "df=pd.read_csv(r\"C:\\Users\\jayak\\Downloads\\Crop_recommendation.csv\")\n",
    "print(df)\n"
   ]
  },
  {
   "cell_type": "markdown",
   "id": "3c803912",
   "metadata": {},
   "source": [
    "DATA CLEANING AND PROCESSING "
   ]
  },
  {
   "cell_type": "code",
   "execution_count": 2,
   "id": "79ccac58",
   "metadata": {},
   "outputs": [
    {
     "data": {
      "text/plain": [
       "N              0\n",
       "P              0\n",
       "K              0\n",
       "temperature    0\n",
       "humidity       0\n",
       "ph             0\n",
       "rainfall       0\n",
       "label          0\n",
       "dtype: int64"
      ]
     },
     "execution_count": 2,
     "metadata": {},
     "output_type": "execute_result"
    }
   ],
   "source": [
    "df.isna().sum()\n"
   ]
  },
  {
   "cell_type": "code",
   "execution_count": 3,
   "id": "2395f912",
   "metadata": {},
   "outputs": [
    {
     "name": "stdout",
     "output_type": "stream",
     "text": [
      "<class 'pandas.core.frame.DataFrame'>\n",
      "RangeIndex: 2200 entries, 0 to 2199\n",
      "Data columns (total 8 columns):\n",
      " #   Column       Non-Null Count  Dtype  \n",
      "---  ------       --------------  -----  \n",
      " 0   N            2200 non-null   int64  \n",
      " 1   P            2200 non-null   int64  \n",
      " 2   K            2200 non-null   int64  \n",
      " 3   temperature  2200 non-null   float64\n",
      " 4   humidity     2200 non-null   float64\n",
      " 5   ph           2200 non-null   float64\n",
      " 6   rainfall     2200 non-null   float64\n",
      " 7   label        2200 non-null   object \n",
      "dtypes: float64(4), int64(3), object(1)\n",
      "memory usage: 137.6+ KB\n"
     ]
    }
   ],
   "source": [
    "df.info()"
   ]
  },
  {
   "cell_type": "markdown",
   "id": "5d739a0e",
   "metadata": {},
   "source": [
    "CONVERT CATEGORICAL VALUES INTO NUUMERICAL VALES"
   ]
  },
  {
   "cell_type": "code",
   "execution_count": 4,
   "id": "76fec9f9",
   "metadata": {},
   "outputs": [],
   "source": [
    "from sklearn.preprocessing import LabelEncoder\n",
    "st=LabelEncoder()\n",
    "df[\"label\"]=st.fit_transform(df[\"label\"])\n",
    "\n",
    "\n"
   ]
  },
  {
   "cell_type": "code",
   "execution_count": 5,
   "id": "d31723a6",
   "metadata": {},
   "outputs": [
    {
     "name": "stdout",
     "output_type": "stream",
     "text": [
      "<class 'pandas.core.frame.DataFrame'>\n",
      "RangeIndex: 2200 entries, 0 to 2199\n",
      "Data columns (total 8 columns):\n",
      " #   Column       Non-Null Count  Dtype  \n",
      "---  ------       --------------  -----  \n",
      " 0   N            2200 non-null   int64  \n",
      " 1   P            2200 non-null   int64  \n",
      " 2   K            2200 non-null   int64  \n",
      " 3   temperature  2200 non-null   float64\n",
      " 4   humidity     2200 non-null   float64\n",
      " 5   ph           2200 non-null   float64\n",
      " 6   rainfall     2200 non-null   float64\n",
      " 7   label        2200 non-null   int32  \n",
      "dtypes: float64(4), int32(1), int64(3)\n",
      "memory usage: 129.0 KB\n"
     ]
    }
   ],
   "source": [
    "df.info()"
   ]
  },
  {
   "cell_type": "markdown",
   "id": "f58b3ffa",
   "metadata": {},
   "source": [
    "EXTRACTING INDEPENDENT AND DEPENDENT VARIABLES"
   ]
  },
  {
   "cell_type": "code",
   "execution_count": 6,
   "id": "8e772325",
   "metadata": {},
   "outputs": [],
   "source": [
    "x=df.iloc[:,:-1].values\n",
    "y=df.iloc[:,-1].values\n",
    "\n"
   ]
  },
  {
   "cell_type": "code",
   "execution_count": 7,
   "id": "a45b73a6",
   "metadata": {},
   "outputs": [],
   "source": [
    "n_features = x.shape[1]"
   ]
  },
  {
   "cell_type": "code",
   "execution_count": 8,
   "id": "57bf4479",
   "metadata": {},
   "outputs": [
    {
     "data": {
      "text/plain": [
       "7"
      ]
     },
     "execution_count": 8,
     "metadata": {},
     "output_type": "execute_result"
    }
   ],
   "source": [
    "x.shape[1]"
   ]
  },
  {
   "cell_type": "code",
   "execution_count": 9,
   "id": "7a4f1275",
   "metadata": {},
   "outputs": [
    {
     "data": {
      "text/plain": [
       "array([20, 20, 20, ...,  5,  5,  5])"
      ]
     },
     "execution_count": 9,
     "metadata": {},
     "output_type": "execute_result"
    }
   ],
   "source": [
    "y"
   ]
  },
  {
   "cell_type": "markdown",
   "id": "4233a0fd",
   "metadata": {},
   "source": [
    "Train and Test"
   ]
  },
  {
   "cell_type": "code",
   "execution_count": 10,
   "id": "58a41b79",
   "metadata": {},
   "outputs": [],
   "source": [
    "from sklearn.model_selection import train_test_split\n",
    "x_train, x_test, y_train, y_test = train_test_split(x, y, test_size=0.20, random_state=70)"
   ]
  },
  {
   "cell_type": "markdown",
   "id": "cf1d38c1",
   "metadata": {},
   "source": [
    "Model making using nueral network"
   ]
  },
  {
   "cell_type": "code",
   "execution_count": 11,
   "id": "5f75bd92",
   "metadata": {},
   "outputs": [],
   "source": [
    "\n",
    "from tensorflow.keras import Sequential\n",
    "from tensorflow.keras.layers import Dense \n",
    "model=Sequential()\n",
    "model.add(Dense(16, activation='relu',input_shape=(n_features,)))\n",
    "model.add(Dense(8,activation='relu'))\n",
    "model.add(Dense(24,activation='softmax'))\n",
    "\n",
    "\n",
    "model.compile(optimizer='adam', loss='sparse_categorical_crossentropy', metrics=['accuracy'])\n",
    "\n"
   ]
  },
  {
   "cell_type": "code",
   "execution_count": 12,
   "id": "66803bc5",
   "metadata": {},
   "outputs": [
    {
     "name": "stdout",
     "output_type": "stream",
     "text": [
      "Epoch 1/150\n",
      "55/55 - 1s - loss: 15.9432 - accuracy: 0.0795 - 818ms/epoch - 15ms/step\n",
      "Epoch 2/150\n",
      "55/55 - 0s - loss: 3.8853 - accuracy: 0.0886 - 81ms/epoch - 1ms/step\n",
      "Epoch 3/150\n",
      "55/55 - 0s - loss: 2.8640 - accuracy: 0.1591 - 87ms/epoch - 2ms/step\n",
      "Epoch 4/150\n",
      "55/55 - 0s - loss: 2.7107 - accuracy: 0.2244 - 85ms/epoch - 2ms/step\n",
      "Epoch 5/150\n",
      "55/55 - 0s - loss: 2.5759 - accuracy: 0.2352 - 83ms/epoch - 2ms/step\n",
      "Epoch 6/150\n",
      "55/55 - 0s - loss: 2.4195 - accuracy: 0.2688 - 91ms/epoch - 2ms/step\n",
      "Epoch 7/150\n",
      "55/55 - 0s - loss: 2.2907 - accuracy: 0.3063 - 94ms/epoch - 2ms/step\n",
      "Epoch 8/150\n",
      "55/55 - 0s - loss: 2.1383 - accuracy: 0.3301 - 91ms/epoch - 2ms/step\n",
      "Epoch 9/150\n",
      "55/55 - 0s - loss: 1.9969 - accuracy: 0.3756 - 92ms/epoch - 2ms/step\n",
      "Epoch 10/150\n",
      "55/55 - 0s - loss: 1.9161 - accuracy: 0.4028 - 89ms/epoch - 2ms/step\n",
      "Epoch 11/150\n",
      "55/55 - 0s - loss: 1.8548 - accuracy: 0.4170 - 87ms/epoch - 2ms/step\n",
      "Epoch 12/150\n",
      "55/55 - 0s - loss: 1.8056 - accuracy: 0.4239 - 173ms/epoch - 3ms/step\n",
      "Epoch 13/150\n",
      "55/55 - 0s - loss: 1.7597 - accuracy: 0.4250 - 105ms/epoch - 2ms/step\n",
      "Epoch 14/150\n",
      "55/55 - 0s - loss: 1.7006 - accuracy: 0.4256 - 114ms/epoch - 2ms/step\n",
      "Epoch 15/150\n",
      "55/55 - 0s - loss: 1.6331 - accuracy: 0.4449 - 92ms/epoch - 2ms/step\n",
      "Epoch 16/150\n",
      "55/55 - 0s - loss: 1.5441 - accuracy: 0.4756 - 116ms/epoch - 2ms/step\n",
      "Epoch 17/150\n",
      "55/55 - 0s - loss: 1.4725 - accuracy: 0.4949 - 111ms/epoch - 2ms/step\n",
      "Epoch 18/150\n",
      "55/55 - 0s - loss: 1.4049 - accuracy: 0.5114 - 90ms/epoch - 2ms/step\n",
      "Epoch 19/150\n",
      "55/55 - 0s - loss: 1.3374 - accuracy: 0.5318 - 102ms/epoch - 2ms/step\n",
      "Epoch 20/150\n",
      "55/55 - 0s - loss: 1.2791 - accuracy: 0.5415 - 104ms/epoch - 2ms/step\n",
      "Epoch 21/150\n",
      "55/55 - 0s - loss: 1.2131 - accuracy: 0.5574 - 97ms/epoch - 2ms/step\n",
      "Epoch 22/150\n",
      "55/55 - 0s - loss: 1.1424 - accuracy: 0.5892 - 78ms/epoch - 1ms/step\n",
      "Epoch 23/150\n",
      "55/55 - 0s - loss: 1.0495 - accuracy: 0.6381 - 90ms/epoch - 2ms/step\n",
      "Epoch 24/150\n",
      "55/55 - 0s - loss: 0.9695 - accuracy: 0.6812 - 103ms/epoch - 2ms/step\n",
      "Epoch 25/150\n",
      "55/55 - 0s - loss: 0.8948 - accuracy: 0.7091 - 87ms/epoch - 2ms/step\n",
      "Epoch 26/150\n",
      "55/55 - 0s - loss: 0.8278 - accuracy: 0.7295 - 144ms/epoch - 3ms/step\n",
      "Epoch 27/150\n",
      "55/55 - 0s - loss: 0.7691 - accuracy: 0.7563 - 148ms/epoch - 3ms/step\n",
      "Epoch 28/150\n",
      "55/55 - 0s - loss: 0.7075 - accuracy: 0.7597 - 150ms/epoch - 3ms/step\n",
      "Epoch 29/150\n",
      "55/55 - 0s - loss: 0.6675 - accuracy: 0.7739 - 162ms/epoch - 3ms/step\n",
      "Epoch 30/150\n",
      "55/55 - 0s - loss: 0.6084 - accuracy: 0.7903 - 169ms/epoch - 3ms/step\n",
      "Epoch 31/150\n",
      "55/55 - 0s - loss: 0.5708 - accuracy: 0.7949 - 175ms/epoch - 3ms/step\n",
      "Epoch 32/150\n",
      "55/55 - 0s - loss: 0.5365 - accuracy: 0.8062 - 250ms/epoch - 5ms/step\n",
      "Epoch 33/150\n",
      "55/55 - 0s - loss: 0.4837 - accuracy: 0.8347 - 158ms/epoch - 3ms/step\n",
      "Epoch 34/150\n",
      "55/55 - 0s - loss: 0.4527 - accuracy: 0.8432 - 153ms/epoch - 3ms/step\n",
      "Epoch 35/150\n",
      "55/55 - 0s - loss: 0.4178 - accuracy: 0.8381 - 173ms/epoch - 3ms/step\n",
      "Epoch 36/150\n",
      "55/55 - 0s - loss: 0.3933 - accuracy: 0.8608 - 170ms/epoch - 3ms/step\n",
      "Epoch 37/150\n",
      "55/55 - 0s - loss: 0.3659 - accuracy: 0.8750 - 145ms/epoch - 3ms/step\n",
      "Epoch 38/150\n",
      "55/55 - 0s - loss: 0.3459 - accuracy: 0.8761 - 153ms/epoch - 3ms/step\n",
      "Epoch 39/150\n",
      "55/55 - 0s - loss: 0.3384 - accuracy: 0.8818 - 139ms/epoch - 3ms/step\n",
      "Epoch 40/150\n",
      "55/55 - 0s - loss: 0.3253 - accuracy: 0.8920 - 158ms/epoch - 3ms/step\n",
      "Epoch 41/150\n",
      "55/55 - 0s - loss: 0.3052 - accuracy: 0.8858 - 160ms/epoch - 3ms/step\n",
      "Epoch 42/150\n",
      "55/55 - 0s - loss: 0.2971 - accuracy: 0.8949 - 210ms/epoch - 4ms/step\n",
      "Epoch 43/150\n",
      "55/55 - 0s - loss: 0.2900 - accuracy: 0.8949 - 151ms/epoch - 3ms/step\n",
      "Epoch 44/150\n",
      "55/55 - 0s - loss: 0.2813 - accuracy: 0.8955 - 164ms/epoch - 3ms/step\n",
      "Epoch 45/150\n",
      "55/55 - 0s - loss: 0.2744 - accuracy: 0.9000 - 143ms/epoch - 3ms/step\n",
      "Epoch 46/150\n",
      "55/55 - 0s - loss: 0.2667 - accuracy: 0.9023 - 140ms/epoch - 3ms/step\n",
      "Epoch 47/150\n",
      "55/55 - 0s - loss: 0.2680 - accuracy: 0.9023 - 200ms/epoch - 4ms/step\n",
      "Epoch 48/150\n",
      "55/55 - 0s - loss: 0.2576 - accuracy: 0.9023 - 147ms/epoch - 3ms/step\n",
      "Epoch 49/150\n",
      "55/55 - 0s - loss: 0.2459 - accuracy: 0.9097 - 168ms/epoch - 3ms/step\n",
      "Epoch 50/150\n",
      "55/55 - 0s - loss: 0.2372 - accuracy: 0.9114 - 136ms/epoch - 2ms/step\n",
      "Epoch 51/150\n",
      "55/55 - 0s - loss: 0.2326 - accuracy: 0.9148 - 102ms/epoch - 2ms/step\n",
      "Epoch 52/150\n",
      "55/55 - 0s - loss: 0.2317 - accuracy: 0.9142 - 83ms/epoch - 2ms/step\n",
      "Epoch 53/150\n",
      "55/55 - 0s - loss: 0.2292 - accuracy: 0.9142 - 83ms/epoch - 2ms/step\n",
      "Epoch 54/150\n",
      "55/55 - 0s - loss: 0.2227 - accuracy: 0.9159 - 78ms/epoch - 1ms/step\n",
      "Epoch 55/150\n",
      "55/55 - 0s - loss: 0.2252 - accuracy: 0.9182 - 79ms/epoch - 1ms/step\n",
      "Epoch 56/150\n",
      "55/55 - 0s - loss: 0.2220 - accuracy: 0.9148 - 82ms/epoch - 1ms/step\n",
      "Epoch 57/150\n",
      "55/55 - 0s - loss: 0.2222 - accuracy: 0.9153 - 94ms/epoch - 2ms/step\n",
      "Epoch 58/150\n",
      "55/55 - 0s - loss: 0.2043 - accuracy: 0.9261 - 100ms/epoch - 2ms/step\n",
      "Epoch 59/150\n",
      "55/55 - 0s - loss: 0.2061 - accuracy: 0.9222 - 94ms/epoch - 2ms/step\n",
      "Epoch 60/150\n",
      "55/55 - 0s - loss: 0.2068 - accuracy: 0.9227 - 83ms/epoch - 2ms/step\n",
      "Epoch 61/150\n",
      "55/55 - 0s - loss: 0.1984 - accuracy: 0.9307 - 84ms/epoch - 2ms/step\n",
      "Epoch 62/150\n",
      "55/55 - 0s - loss: 0.1972 - accuracy: 0.9244 - 86ms/epoch - 2ms/step\n",
      "Epoch 63/150\n",
      "55/55 - 0s - loss: 0.2024 - accuracy: 0.9250 - 92ms/epoch - 2ms/step\n",
      "Epoch 64/150\n",
      "55/55 - 0s - loss: 0.2031 - accuracy: 0.9233 - 133ms/epoch - 2ms/step\n",
      "Epoch 65/150\n",
      "55/55 - 0s - loss: 0.1941 - accuracy: 0.9256 - 94ms/epoch - 2ms/step\n",
      "Epoch 66/150\n",
      "55/55 - 0s - loss: 0.1944 - accuracy: 0.9216 - 92ms/epoch - 2ms/step\n",
      "Epoch 67/150\n",
      "55/55 - 0s - loss: 0.1940 - accuracy: 0.9290 - 138ms/epoch - 3ms/step\n",
      "Epoch 68/150\n",
      "55/55 - 0s - loss: 0.1917 - accuracy: 0.9284 - 135ms/epoch - 2ms/step\n",
      "Epoch 69/150\n",
      "55/55 - 0s - loss: 0.1864 - accuracy: 0.9233 - 120ms/epoch - 2ms/step\n",
      "Epoch 70/150\n",
      "55/55 - 0s - loss: 0.1829 - accuracy: 0.9324 - 104ms/epoch - 2ms/step\n",
      "Epoch 71/150\n",
      "55/55 - 0s - loss: 0.1818 - accuracy: 0.9284 - 202ms/epoch - 4ms/step\n",
      "Epoch 72/150\n",
      "55/55 - 0s - loss: 0.1775 - accuracy: 0.9284 - 143ms/epoch - 3ms/step\n",
      "Epoch 73/150\n",
      "55/55 - 0s - loss: 0.1762 - accuracy: 0.9318 - 90ms/epoch - 2ms/step\n",
      "Epoch 74/150\n",
      "55/55 - 0s - loss: 0.1758 - accuracy: 0.9318 - 80ms/epoch - 1ms/step\n",
      "Epoch 75/150\n",
      "55/55 - 0s - loss: 0.1716 - accuracy: 0.9335 - 76ms/epoch - 1ms/step\n",
      "Epoch 76/150\n",
      "55/55 - 0s - loss: 0.1784 - accuracy: 0.9312 - 80ms/epoch - 1ms/step\n",
      "Epoch 77/150\n",
      "55/55 - 0s - loss: 0.1717 - accuracy: 0.9312 - 78ms/epoch - 1ms/step\n",
      "Epoch 78/150\n",
      "55/55 - 0s - loss: 0.1733 - accuracy: 0.9369 - 79ms/epoch - 1ms/step\n",
      "Epoch 79/150\n",
      "55/55 - 0s - loss: 0.1671 - accuracy: 0.9369 - 79ms/epoch - 1ms/step\n",
      "Epoch 80/150\n",
      "55/55 - 0s - loss: 0.1624 - accuracy: 0.9358 - 95ms/epoch - 2ms/step\n",
      "Epoch 81/150\n",
      "55/55 - 0s - loss: 0.1591 - accuracy: 0.9409 - 104ms/epoch - 2ms/step\n",
      "Epoch 82/150\n",
      "55/55 - 0s - loss: 0.1622 - accuracy: 0.9352 - 84ms/epoch - 2ms/step\n",
      "Epoch 83/150\n",
      "55/55 - 0s - loss: 0.1615 - accuracy: 0.9409 - 95ms/epoch - 2ms/step\n",
      "Epoch 84/150\n",
      "55/55 - 0s - loss: 0.1586 - accuracy: 0.9369 - 99ms/epoch - 2ms/step\n",
      "Epoch 85/150\n",
      "55/55 - 0s - loss: 0.1591 - accuracy: 0.9392 - 77ms/epoch - 1ms/step\n",
      "Epoch 86/150\n",
      "55/55 - 0s - loss: 0.1677 - accuracy: 0.9364 - 76ms/epoch - 1ms/step\n",
      "Epoch 87/150\n",
      "55/55 - 0s - loss: 0.1557 - accuracy: 0.9438 - 72ms/epoch - 1ms/step\n",
      "Epoch 88/150\n",
      "55/55 - 0s - loss: 0.1564 - accuracy: 0.9420 - 74ms/epoch - 1ms/step\n",
      "Epoch 89/150\n",
      "55/55 - 0s - loss: 0.1572 - accuracy: 0.9358 - 70ms/epoch - 1ms/step\n",
      "Epoch 90/150\n",
      "55/55 - 0s - loss: 0.1592 - accuracy: 0.9375 - 76ms/epoch - 1ms/step\n",
      "Epoch 91/150\n",
      "55/55 - 0s - loss: 0.1561 - accuracy: 0.9409 - 80ms/epoch - 1ms/step\n",
      "Epoch 92/150\n",
      "55/55 - 0s - loss: 0.1519 - accuracy: 0.9426 - 78ms/epoch - 1ms/step\n",
      "Epoch 93/150\n",
      "55/55 - 0s - loss: 0.1547 - accuracy: 0.9392 - 82ms/epoch - 1ms/step\n",
      "Epoch 94/150\n",
      "55/55 - 0s - loss: 0.1569 - accuracy: 0.9398 - 93ms/epoch - 2ms/step\n",
      "Epoch 95/150\n",
      "55/55 - 0s - loss: 0.1507 - accuracy: 0.9403 - 108ms/epoch - 2ms/step\n",
      "Epoch 96/150\n",
      "55/55 - 0s - loss: 0.1524 - accuracy: 0.9403 - 91ms/epoch - 2ms/step\n",
      "Epoch 97/150\n",
      "55/55 - 0s - loss: 0.1602 - accuracy: 0.9398 - 99ms/epoch - 2ms/step\n",
      "Epoch 98/150\n",
      "55/55 - 0s - loss: 0.1522 - accuracy: 0.9438 - 93ms/epoch - 2ms/step\n",
      "Epoch 99/150\n",
      "55/55 - 0s - loss: 0.1456 - accuracy: 0.9432 - 76ms/epoch - 1ms/step\n",
      "Epoch 100/150\n",
      "55/55 - 0s - loss: 0.1517 - accuracy: 0.9403 - 76ms/epoch - 1ms/step\n",
      "Epoch 101/150\n",
      "55/55 - 0s - loss: 0.1463 - accuracy: 0.9460 - 77ms/epoch - 1ms/step\n",
      "Epoch 102/150\n",
      "55/55 - 0s - loss: 0.1431 - accuracy: 0.9420 - 81ms/epoch - 1ms/step\n",
      "Epoch 103/150\n",
      "55/55 - 0s - loss: 0.1445 - accuracy: 0.9409 - 87ms/epoch - 2ms/step\n",
      "Epoch 104/150\n",
      "55/55 - 0s - loss: 0.1489 - accuracy: 0.9403 - 104ms/epoch - 2ms/step\n",
      "Epoch 105/150\n",
      "55/55 - 0s - loss: 0.1411 - accuracy: 0.9477 - 86ms/epoch - 2ms/step\n",
      "Epoch 106/150\n",
      "55/55 - 0s - loss: 0.1504 - accuracy: 0.9460 - 75ms/epoch - 1ms/step\n",
      "Epoch 107/150\n",
      "55/55 - 0s - loss: 0.1449 - accuracy: 0.9403 - 84ms/epoch - 2ms/step\n",
      "Epoch 108/150\n",
      "55/55 - 0s - loss: 0.1404 - accuracy: 0.9472 - 120ms/epoch - 2ms/step\n",
      "Epoch 109/150\n",
      "55/55 - 0s - loss: 0.1358 - accuracy: 0.9460 - 145ms/epoch - 3ms/step\n",
      "Epoch 110/150\n",
      "55/55 - 0s - loss: 0.1370 - accuracy: 0.9455 - 83ms/epoch - 2ms/step\n",
      "Epoch 111/150\n",
      "55/55 - 0s - loss: 0.1360 - accuracy: 0.9420 - 92ms/epoch - 2ms/step\n",
      "Epoch 112/150\n",
      "55/55 - 0s - loss: 0.1379 - accuracy: 0.9477 - 124ms/epoch - 2ms/step\n",
      "Epoch 113/150\n",
      "55/55 - 0s - loss: 0.1401 - accuracy: 0.9455 - 180ms/epoch - 3ms/step\n",
      "Epoch 114/150\n",
      "55/55 - 0s - loss: 0.1424 - accuracy: 0.9375 - 204ms/epoch - 4ms/step\n",
      "Epoch 115/150\n",
      "55/55 - 0s - loss: 0.1371 - accuracy: 0.9477 - 151ms/epoch - 3ms/step\n",
      "Epoch 116/150\n",
      "55/55 - 0s - loss: 0.1336 - accuracy: 0.9506 - 147ms/epoch - 3ms/step\n",
      "Epoch 117/150\n",
      "55/55 - 0s - loss: 0.1341 - accuracy: 0.9455 - 151ms/epoch - 3ms/step\n",
      "Epoch 118/150\n",
      "55/55 - 0s - loss: 0.1298 - accuracy: 0.9511 - 140ms/epoch - 3ms/step\n",
      "Epoch 119/150\n",
      "55/55 - 0s - loss: 0.1384 - accuracy: 0.9420 - 154ms/epoch - 3ms/step\n",
      "Epoch 120/150\n",
      "55/55 - 0s - loss: 0.1250 - accuracy: 0.9500 - 104ms/epoch - 2ms/step\n",
      "Epoch 121/150\n",
      "55/55 - 0s - loss: 0.1244 - accuracy: 0.9534 - 126ms/epoch - 2ms/step\n",
      "Epoch 122/150\n",
      "55/55 - 0s - loss: 0.1303 - accuracy: 0.9511 - 144ms/epoch - 3ms/step\n",
      "Epoch 123/150\n",
      "55/55 - 0s - loss: 0.1295 - accuracy: 0.9460 - 137ms/epoch - 2ms/step\n",
      "Epoch 124/150\n",
      "55/55 - 0s - loss: 0.1267 - accuracy: 0.9540 - 136ms/epoch - 2ms/step\n",
      "Epoch 125/150\n",
      "55/55 - 0s - loss: 0.1296 - accuracy: 0.9477 - 128ms/epoch - 2ms/step\n",
      "Epoch 126/150\n",
      "55/55 - 0s - loss: 0.1317 - accuracy: 0.9500 - 127ms/epoch - 2ms/step\n",
      "Epoch 127/150\n",
      "55/55 - 0s - loss: 0.1260 - accuracy: 0.9494 - 81ms/epoch - 1ms/step\n",
      "Epoch 128/150\n",
      "55/55 - 0s - loss: 0.1231 - accuracy: 0.9489 - 82ms/epoch - 1ms/step\n",
      "Epoch 129/150\n",
      "55/55 - 0s - loss: 0.1213 - accuracy: 0.9517 - 72ms/epoch - 1ms/step\n",
      "Epoch 130/150\n",
      "55/55 - 0s - loss: 0.1234 - accuracy: 0.9494 - 74ms/epoch - 1ms/step\n",
      "Epoch 131/150\n",
      "55/55 - 0s - loss: 0.1254 - accuracy: 0.9483 - 75ms/epoch - 1ms/step\n",
      "Epoch 132/150\n",
      "55/55 - 0s - loss: 0.1267 - accuracy: 0.9511 - 76ms/epoch - 1ms/step\n",
      "Epoch 133/150\n",
      "55/55 - 0s - loss: 0.1189 - accuracy: 0.9574 - 71ms/epoch - 1ms/step\n",
      "Epoch 134/150\n",
      "55/55 - 0s - loss: 0.1232 - accuracy: 0.9500 - 71ms/epoch - 1ms/step\n",
      "Epoch 135/150\n",
      "55/55 - 0s - loss: 0.1226 - accuracy: 0.9523 - 75ms/epoch - 1ms/step\n",
      "Epoch 136/150\n",
      "55/55 - 0s - loss: 0.1160 - accuracy: 0.9551 - 72ms/epoch - 1ms/step\n",
      "Epoch 137/150\n",
      "55/55 - 0s - loss: 0.1236 - accuracy: 0.9523 - 150ms/epoch - 3ms/step\n",
      "Epoch 138/150\n",
      "55/55 - 0s - loss: 0.1179 - accuracy: 0.9534 - 103ms/epoch - 2ms/step\n",
      "Epoch 139/150\n",
      "55/55 - 0s - loss: 0.1218 - accuracy: 0.9568 - 143ms/epoch - 3ms/step\n",
      "Epoch 140/150\n",
      "55/55 - 0s - loss: 0.1172 - accuracy: 0.9528 - 120ms/epoch - 2ms/step\n",
      "Epoch 141/150\n",
      "55/55 - 0s - loss: 0.1172 - accuracy: 0.9557 - 101ms/epoch - 2ms/step\n",
      "Epoch 142/150\n",
      "55/55 - 0s - loss: 0.1245 - accuracy: 0.9489 - 104ms/epoch - 2ms/step\n",
      "Epoch 143/150\n",
      "55/55 - 0s - loss: 0.1231 - accuracy: 0.9460 - 129ms/epoch - 2ms/step\n",
      "Epoch 144/150\n",
      "55/55 - 0s - loss: 0.1307 - accuracy: 0.9466 - 169ms/epoch - 3ms/step\n",
      "Epoch 145/150\n",
      "55/55 - 0s - loss: 0.1117 - accuracy: 0.9580 - 130ms/epoch - 2ms/step\n",
      "Epoch 146/150\n",
      "55/55 - 0s - loss: 0.1150 - accuracy: 0.9528 - 136ms/epoch - 2ms/step\n",
      "Epoch 147/150\n",
      "55/55 - 0s - loss: 0.1103 - accuracy: 0.9568 - 130ms/epoch - 2ms/step\n",
      "Epoch 148/150\n",
      "55/55 - 0s - loss: 0.1133 - accuracy: 0.9580 - 129ms/epoch - 2ms/step\n",
      "Epoch 149/150\n",
      "55/55 - 0s - loss: 0.1184 - accuracy: 0.9580 - 101ms/epoch - 2ms/step\n",
      "Epoch 150/150\n",
      "55/55 - 0s - loss: 0.1105 - accuracy: 0.9545 - 77ms/epoch - 1ms/step\n"
     ]
    },
    {
     "data": {
      "text/plain": [
       "<keras.src.callbacks.History at 0x23e140ae1a0>"
      ]
     },
     "execution_count": 12,
     "metadata": {},
     "output_type": "execute_result"
    }
   ],
   "source": [
    "model.fit(x_train,y_train, epochs=150,batch_size=32,verbose=2)"
   ]
  },
  {
   "cell_type": "code",
   "execution_count": null,
   "id": "46acf9b7",
   "metadata": {},
   "outputs": [
    {
     "name": "stdout",
     "output_type": "stream",
     "text": [
      "14/14 - 0s - loss: 0.1587 - accuracy: 0.9455 - 132ms/epoch - 9ms/step\n",
      "Test Accuracy: 0.945Test Accuracy: 0.945Test Accuracy: 0.945Test Accuracy: 0.945Test Accuracy: 0.945Test Accuracy: 0.945Test Accuracy: 0.945Test Accuracy: 0.945Test Accuracy: 0.945Test Accuracy: 0.945Test Accuracy: 0.945Test Accuracy: 0.945Test Accuracy: 0.945Test Accuracy: 0.945Test Accuracy: 0.945Test Accuracy: 0.945Test Accuracy: 0.945Test Accuracy: 0.945Test Accuracy: 0.945Test Accuracy: 0.945Test Accuracy: 0.945Test Accuracy: 0.945Test Accuracy: 0.945Test Accuracy: 0.945Test Accuracy: 0.945Test Accuracy: 0.945Test Accuracy: 0.945Test Accuracy: 0.945Test Accuracy: 0.945Test Accuracy: 0.945Test Accuracy: 0.945Test Accuracy: 0.945Test Accuracy: 0.945Test Accuracy: 0.945Test Accuracy: 0.945Test Accuracy: 0.945Test Accuracy: 0.945Test Accuracy: 0.945Test Accuracy: 0.945Test Accuracy: 0.945Test Accuracy: 0.945Test Accuracy: 0.945Test Accuracy: 0.945Test Accuracy: 0.945Test Accuracy: 0.945Test Accuracy: 0.945Test Accuracy: 0.945Test Accuracy: 0.945Test Accuracy: 0.945Test Accuracy: 0.945Test Accuracy: 0.945Test Accuracy: 0.945Test Accuracy: 0.945Test Accuracy: 0.945Test Accuracy: 0.945Test Accuracy: 0.945Test Accuracy: 0.945Test Accuracy: 0.945Test Accuracy: 0.945Test Accuracy: 0.945Test Accuracy: 0.945Test Accuracy: 0.945Test Accuracy: 0.945Test Accuracy: 0.945Test Accuracy: 0.945Test Accuracy: 0.945Test Accuracy: 0.945Test Accuracy: 0.945Test Accuracy: 0.945Test Accuracy: 0.945Test Accuracy: 0.945Test Accuracy: 0.945Test Accuracy: 0.945Test Accuracy: 0.945Test Accuracy: 0.945Test Accuracy: 0.945Test Accuracy: 0.945Test Accuracy: 0.945Test Accuracy: 0.945Test Accuracy: 0.945Test Accuracy: 0.945Test Accuracy: 0.945Test Accuracy: 0.945Test Accuracy: 0.945Test Accuracy: 0.945Test Accuracy: 0.945Test Accuracy: 0.945Test Accuracy: 0.945Test Accuracy: 0.945Test Accuracy: 0.945Test Accuracy: 0.945Test Accuracy: 0.945Test Accuracy: 0.945Test Accuracy: 0.945Test Accuracy: 0.945Test Accuracy: 0.945Test Accuracy: 0.945Test Accuracy: 0.945Test Accuracy: 0.945Test Accuracy: 0.945\n"
     ]
    }
   ],
   "source": [
    "loss, acc = model.evaluate(x_test, y_test, verbose=2)\n",
    "print('Test Accuracy: %.3f' % acc)"
   ]
  },
  {
   "cell_type": "code",
   "execution_count": 14,
   "id": "ee2cc12c",
   "metadata": {},
   "outputs": [
    {
     "name": "stdout",
     "output_type": "stream",
     "text": [
      "        N   P   K  temperature   humidity        ph    rainfall  label\n",
      "0      90  42  43    20.879744  82.002744  6.502985  202.935536     20\n",
      "1      85  58  41    21.770462  80.319644  7.038096  226.655537     20\n",
      "2      60  55  44    23.004459  82.320763  7.840207  263.964248     20\n",
      "3      74  35  40    26.491096  80.158363  6.980401  242.864034     20\n",
      "4      78  42  42    20.130175  81.604873  7.628473  262.717340     20\n",
      "...   ...  ..  ..          ...        ...       ...         ...    ...\n",
      "2195  107  34  32    26.774637  66.413269  6.780064  177.774507      5\n",
      "2196   99  15  27    27.417112  56.636362  6.086922  127.924610      5\n",
      "2197  118  33  30    24.131797  67.225123  6.362608  173.322839      5\n",
      "2198  117  32  34    26.272418  52.127394  6.758793  127.175293      5\n",
      "2199  104  18  30    23.603016  60.396475  6.779833  140.937041      5\n",
      "\n",
      "[2200 rows x 8 columns]\n"
     ]
    }
   ],
   "source": [
    "print(df)"
   ]
  },
  {
   "cell_type": "code",
   "execution_count": 15,
   "id": "c3a819b5",
   "metadata": {},
   "outputs": [
    {
     "name": "stdout",
     "output_type": "stream",
     "text": [
      "1/1 [==============================] - 0s 175ms/step\n",
      "[20]\n"
     ]
    }
   ],
   "source": [
    "import numpy as np\n",
    "\n",
    "sample=np.array([[90,42 ,43 ,20.879744 ,82.002744 , 6.502985 , 202.935536   ]])\n",
    "prediction=model.predict(sample)\n",
    "\n",
    "predicted_class = np.argmax(prediction,axis=1)\n",
    "print(predicted_class)"
   ]
  },
  {
   "cell_type": "code",
   "execution_count": 16,
   "id": "9496688e",
   "metadata": {},
   "outputs": [
    {
     "data": {
      "text/plain": [
       "'2.14.1'"
      ]
     },
     "execution_count": 16,
     "metadata": {},
     "output_type": "execute_result"
    }
   ],
   "source": [
    "import tensorflow as tf\n",
    "tf.__version__"
   ]
  },
  {
   "cell_type": "code",
   "execution_count": 17,
   "id": "e14a76cc",
   "metadata": {},
   "outputs": [
    {
     "name": "stderr",
     "output_type": "stream",
     "text": [
      "c:\\Users\\jayak\\anaconda3\\lib\\site-packages\\keras\\src\\engine\\training.py:3079: UserWarning: You are saving your model as an HDF5 file via `model.save()`. This file format is considered legacy. We recommend using instead the native Keras format, e.g. `model.save('my_model.keras')`.\n",
      "  saving_api.save_model(\n"
     ]
    }
   ],
   "source": [
    "model.save('model.h5') # model.keras"
   ]
  },
  {
   "cell_type": "markdown",
   "id": "a047b671",
   "metadata": {},
   "source": [
    "EVALUATE PREDICTION"
   ]
  },
  {
   "cell_type": "code",
   "execution_count": 18,
   "id": "b91aead6",
   "metadata": {},
   "outputs": [],
   "source": [
    "from tensorflow.keras.models import load_model\n",
    "model = load_model('model.h5')"
   ]
  },
  {
   "cell_type": "code",
   "execution_count": 19,
   "id": "439b318d",
   "metadata": {},
   "outputs": [
    {
     "name": "stdout",
     "output_type": "stream",
     "text": [
      "Predict label: rice\n"
     ]
    }
   ],
   "source": [
    "label=st.inverse_transform(predicted_class)\n",
    "print('Predict label:',label[0])"
   ]
  },
  {
   "cell_type": "markdown",
   "id": "1805dfc2",
   "metadata": {},
   "source": [
    "SUMMARY"
   ]
  },
  {
   "cell_type": "markdown",
   "id": "cc697d9b",
   "metadata": {},
   "source": [
    "The AI-based crop recommendation model accurately predicts suitable crops based on temperature, humidity, pH, and rainfall. Using Keras and TensorFlow, the model showed a significant rise in accuracy, helping farmers make better decisions and improve productivity."
   ]
  }
 ],
 "metadata": {
  "kernelspec": {
   "display_name": "base",
   "language": "python",
   "name": "python3"
  },
  "language_info": {
   "codemirror_mode": {
    "name": "ipython",
    "version": 3
   },
   "file_extension": ".py",
   "mimetype": "text/x-python",
   "name": "python",
   "nbconvert_exporter": "python",
   "pygments_lexer": "ipython3",
   "version": "3.10.9"
  }
 },
 "nbformat": 4,
 "nbformat_minor": 5
}
