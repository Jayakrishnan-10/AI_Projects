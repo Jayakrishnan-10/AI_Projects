{
 "cells": [
  {
   "cell_type": "markdown",
   "id": "3556272c",
   "metadata": {},
   "source": [
    "INTRODUCTION"
   ]
  },
  {
   "cell_type": "markdown",
   "id": "55ae41b9",
   "metadata": {},
   "source": [
    "The main goal of this project is to build an AI model that recommends the most suitable crop for cultivation based on environmental factors such as temperature, humidity, pH value of the soil, and rainfall."
   ]
  },
  {
   "cell_type": "markdown",
   "id": "66e0d9be",
   "metadata": {},
   "source": [
    "IMPORT LIBARIES AND LOAD DATA "
   ]
  },
  {
   "cell_type": "code",
   "execution_count": 1,
   "id": "7a38d6f5",
   "metadata": {},
   "outputs": [
    {
     "name": "stdout",
     "output_type": "stream",
     "text": [
      "        N   P   K  temperature   humidity        ph    rainfall   label\n",
      "0      90  42  43    20.879744  82.002744  6.502985  202.935536    rice\n",
      "1      85  58  41    21.770462  80.319644  7.038096  226.655537    rice\n",
      "2      60  55  44    23.004459  82.320763  7.840207  263.964248    rice\n",
      "3      74  35  40    26.491096  80.158363  6.980401  242.864034    rice\n",
      "4      78  42  42    20.130175  81.604873  7.628473  262.717340    rice\n",
      "...   ...  ..  ..          ...        ...       ...         ...     ...\n",
      "2195  107  34  32    26.774637  66.413269  6.780064  177.774507  coffee\n",
      "2196   99  15  27    27.417112  56.636362  6.086922  127.924610  coffee\n",
      "2197  118  33  30    24.131797  67.225123  6.362608  173.322839  coffee\n",
      "2198  117  32  34    26.272418  52.127394  6.758793  127.175293  coffee\n",
      "2199  104  18  30    23.603016  60.396475  6.779833  140.937041  coffee\n",
      "\n",
      "[2200 rows x 8 columns]\n"
     ]
    }
   ],
   "source": [
    "import pandas as pd \n",
    "df=pd.read_csv(r\"C:\\Users\\jayak\\Downloads\\Crop_recommendation.csv\")\n",
    "print(df)\n"
   ]
  },
  {
   "cell_type": "markdown",
   "id": "3c803912",
   "metadata": {},
   "source": [
    "DATA CLEANING AND PROCESSING "
   ]
  },
  {
   "cell_type": "code",
   "execution_count": 2,
   "id": "79ccac58",
   "metadata": {},
   "outputs": [
    {
     "data": {
      "text/plain": [
       "N              0\n",
       "P              0\n",
       "K              0\n",
       "temperature    0\n",
       "humidity       0\n",
       "ph             0\n",
       "rainfall       0\n",
       "label          0\n",
       "dtype: int64"
      ]
     },
     "execution_count": 2,
     "metadata": {},
     "output_type": "execute_result"
    }
   ],
   "source": [
    "df.isna().sum()\n"
   ]
  },
  {
   "cell_type": "code",
   "execution_count": 3,
   "id": "2395f912",
   "metadata": {},
   "outputs": [
    {
     "name": "stdout",
     "output_type": "stream",
     "text": [
      "<class 'pandas.core.frame.DataFrame'>\n",
      "RangeIndex: 2200 entries, 0 to 2199\n",
      "Data columns (total 8 columns):\n",
      " #   Column       Non-Null Count  Dtype  \n",
      "---  ------       --------------  -----  \n",
      " 0   N            2200 non-null   int64  \n",
      " 1   P            2200 non-null   int64  \n",
      " 2   K            2200 non-null   int64  \n",
      " 3   temperature  2200 non-null   float64\n",
      " 4   humidity     2200 non-null   float64\n",
      " 5   ph           2200 non-null   float64\n",
      " 6   rainfall     2200 non-null   float64\n",
      " 7   label        2200 non-null   object \n",
      "dtypes: float64(4), int64(3), object(1)\n",
      "memory usage: 137.6+ KB\n"
     ]
    }
   ],
   "source": [
    "df.info()"
   ]
  },
  {
   "cell_type": "markdown",
   "id": "5d739a0e",
   "metadata": {},
   "source": [
    "CONVERT CATEGORICAL VALUES INTO NUUMERICAL VALES"
   ]
  },
  {
   "cell_type": "code",
   "execution_count": 4,
   "id": "76fec9f9",
   "metadata": {},
   "outputs": [],
   "source": [
    "from sklearn.preprocessing import LabelEncoder\n",
    "st=LabelEncoder()\n",
    "df[\"label\"]=st.fit_transform(df[\"label\"])\n",
    "\n",
    "\n"
   ]
  },
  {
   "cell_type": "code",
   "execution_count": 5,
   "id": "d31723a6",
   "metadata": {},
   "outputs": [
    {
     "name": "stdout",
     "output_type": "stream",
     "text": [
      "<class 'pandas.core.frame.DataFrame'>\n",
      "RangeIndex: 2200 entries, 0 to 2199\n",
      "Data columns (total 8 columns):\n",
      " #   Column       Non-Null Count  Dtype  \n",
      "---  ------       --------------  -----  \n",
      " 0   N            2200 non-null   int64  \n",
      " 1   P            2200 non-null   int64  \n",
      " 2   K            2200 non-null   int64  \n",
      " 3   temperature  2200 non-null   float64\n",
      " 4   humidity     2200 non-null   float64\n",
      " 5   ph           2200 non-null   float64\n",
      " 6   rainfall     2200 non-null   float64\n",
      " 7   label        2200 non-null   int32  \n",
      "dtypes: float64(4), int32(1), int64(3)\n",
      "memory usage: 129.0 KB\n"
     ]
    }
   ],
   "source": [
    "df.info()"
   ]
  },
  {
   "cell_type": "markdown",
   "id": "f58b3ffa",
   "metadata": {},
   "source": [
    "EXTRACTING INDEPENDENT AND DEPENDENT VARIABLES"
   ]
  },
  {
   "cell_type": "code",
   "execution_count": 6,
   "id": "8e772325",
   "metadata": {},
   "outputs": [],
   "source": [
    "x=df.iloc[:,:-1].values\n",
    "y=df.iloc[:,-1].values\n",
    "\n"
   ]
  },
  {
   "cell_type": "code",
   "execution_count": 7,
   "id": "a45b73a6",
   "metadata": {},
   "outputs": [],
   "source": [
    "n_features = x.shape[1]"
   ]
  },
  {
   "cell_type": "code",
   "execution_count": 8,
   "id": "57bf4479",
   "metadata": {},
   "outputs": [
    {
     "data": {
      "text/plain": [
       "7"
      ]
     },
     "execution_count": 8,
     "metadata": {},
     "output_type": "execute_result"
    }
   ],
   "source": [
    "x.shape[1]"
   ]
  },
  {
   "cell_type": "code",
   "execution_count": 9,
   "id": "7a4f1275",
   "metadata": {},
   "outputs": [
    {
     "data": {
      "text/plain": [
       "array([20, 20, 20, ...,  5,  5,  5])"
      ]
     },
     "execution_count": 9,
     "metadata": {},
     "output_type": "execute_result"
    }
   ],
   "source": [
    "y"
   ]
  },
  {
   "cell_type": "markdown",
   "id": "4233a0fd",
   "metadata": {},
   "source": [
    "Train and Test"
   ]
  },
  {
   "cell_type": "code",
   "execution_count": 10,
   "id": "58a41b79",
   "metadata": {},
   "outputs": [],
   "source": [
    "from sklearn.model_selection import train_test_split\n",
    "x_train, x_test, y_train, y_test = train_test_split(x, y, test_size=0.20, random_state=70)"
   ]
  },
  {
   "cell_type": "markdown",
   "id": "cf1d38c1",
   "metadata": {},
   "source": [
    "Model making using nueral network"
   ]
  },
  {
   "cell_type": "code",
   "execution_count": 11,
   "id": "5f75bd92",
   "metadata": {},
   "outputs": [],
   "source": [
    "\n",
    "from tensorflow.keras import Sequential\n",
    "from tensorflow.keras.layers import Dense \n",
    "model=Sequential()\n",
    "model.add(Dense(16, activation='relu',input_shape=(n_features,)))\n",
    "model.add(Dense(8,activation='relu'))\n",
    "model.add(Dense(24,activation='softmax'))\n",
    "\n",
    "\n",
    "model.compile(optimizer='adam', loss='sparse_categorical_crossentropy', metrics=['accuracy'])\n",
    "\n"
   ]
  },
  {
   "cell_type": "code",
   "execution_count": 12,
   "id": "66803bc5",
   "metadata": {},
   "outputs": [
    {
     "name": "stdout",
     "output_type": "stream",
     "text": [
      "Epoch 1/150\n",
      "55/55 - 2s - loss: 28.7252 - accuracy: 0.0136 - 2s/epoch - 35ms/step\n",
      "Epoch 2/150\n",
      "55/55 - 0s - loss: 9.8398 - accuracy: 0.0386 - 189ms/epoch - 3ms/step\n",
      "Epoch 3/150\n",
      "55/55 - 0s - loss: 3.7350 - accuracy: 0.1341 - 218ms/epoch - 4ms/step\n",
      "Epoch 4/150\n",
      "55/55 - 0s - loss: 2.8799 - accuracy: 0.1631 - 194ms/epoch - 4ms/step\n",
      "Epoch 5/150\n",
      "55/55 - 0s - loss: 2.7375 - accuracy: 0.1989 - 195ms/epoch - 4ms/step\n",
      "Epoch 6/150\n",
      "55/55 - 0s - loss: 2.5707 - accuracy: 0.2040 - 174ms/epoch - 3ms/step\n",
      "Epoch 7/150\n",
      "55/55 - 0s - loss: 2.4098 - accuracy: 0.2568 - 193ms/epoch - 4ms/step\n",
      "Epoch 8/150\n",
      "55/55 - 0s - loss: 2.2583 - accuracy: 0.2665 - 214ms/epoch - 4ms/step\n",
      "Epoch 9/150\n",
      "55/55 - 0s - loss: 2.1375 - accuracy: 0.2943 - 212ms/epoch - 4ms/step\n",
      "Epoch 10/150\n",
      "55/55 - 0s - loss: 2.0262 - accuracy: 0.3114 - 181ms/epoch - 3ms/step\n",
      "Epoch 11/150\n",
      "55/55 - 0s - loss: 1.9253 - accuracy: 0.3426 - 183ms/epoch - 3ms/step\n",
      "Epoch 12/150\n",
      "55/55 - 0s - loss: 1.8271 - accuracy: 0.3864 - 154ms/epoch - 3ms/step\n",
      "Epoch 13/150\n",
      "55/55 - 0s - loss: 1.7380 - accuracy: 0.4193 - 161ms/epoch - 3ms/step\n",
      "Epoch 14/150\n",
      "55/55 - 0s - loss: 1.6630 - accuracy: 0.4313 - 189ms/epoch - 3ms/step\n",
      "Epoch 15/150\n",
      "55/55 - 0s - loss: 1.6052 - accuracy: 0.4466 - 218ms/epoch - 4ms/step\n",
      "Epoch 16/150\n",
      "55/55 - 0s - loss: 1.5359 - accuracy: 0.4875 - 218ms/epoch - 4ms/step\n",
      "Epoch 17/150\n",
      "55/55 - 0s - loss: 1.4821 - accuracy: 0.5148 - 183ms/epoch - 3ms/step\n",
      "Epoch 18/150\n",
      "55/55 - 0s - loss: 1.4277 - accuracy: 0.5312 - 185ms/epoch - 3ms/step\n",
      "Epoch 19/150\n",
      "55/55 - 0s - loss: 1.3683 - accuracy: 0.5511 - 175ms/epoch - 3ms/step\n",
      "Epoch 20/150\n",
      "55/55 - 0s - loss: 1.3109 - accuracy: 0.5580 - 192ms/epoch - 3ms/step\n",
      "Epoch 21/150\n",
      "55/55 - 0s - loss: 1.2643 - accuracy: 0.5727 - 183ms/epoch - 3ms/step\n",
      "Epoch 22/150\n",
      "55/55 - 0s - loss: 1.2216 - accuracy: 0.5852 - 178ms/epoch - 3ms/step\n",
      "Epoch 23/150\n",
      "55/55 - 0s - loss: 1.1830 - accuracy: 0.6216 - 207ms/epoch - 4ms/step\n",
      "Epoch 24/150\n",
      "55/55 - 0s - loss: 1.1384 - accuracy: 0.6409 - 172ms/epoch - 3ms/step\n",
      "Epoch 25/150\n",
      "55/55 - 0s - loss: 1.0896 - accuracy: 0.6517 - 169ms/epoch - 3ms/step\n",
      "Epoch 26/150\n",
      "55/55 - 0s - loss: 1.0540 - accuracy: 0.6545 - 199ms/epoch - 4ms/step\n",
      "Epoch 27/150\n",
      "55/55 - 0s - loss: 1.0066 - accuracy: 0.6795 - 179ms/epoch - 3ms/step\n",
      "Epoch 28/150\n",
      "55/55 - 0s - loss: 0.9761 - accuracy: 0.6875 - 189ms/epoch - 3ms/step\n",
      "Epoch 29/150\n",
      "55/55 - 0s - loss: 0.9579 - accuracy: 0.7034 - 205ms/epoch - 4ms/step\n",
      "Epoch 30/150\n",
      "55/55 - 0s - loss: 0.9281 - accuracy: 0.6949 - 178ms/epoch - 3ms/step\n",
      "Epoch 31/150\n",
      "55/55 - 0s - loss: 0.8973 - accuracy: 0.7011 - 212ms/epoch - 4ms/step\n",
      "Epoch 32/150\n",
      "55/55 - 0s - loss: 0.8883 - accuracy: 0.7159 - 177ms/epoch - 3ms/step\n",
      "Epoch 33/150\n",
      "55/55 - 0s - loss: 0.8549 - accuracy: 0.7250 - 161ms/epoch - 3ms/step\n",
      "Epoch 34/150\n",
      "55/55 - 0s - loss: 0.8319 - accuracy: 0.7369 - 175ms/epoch - 3ms/step\n",
      "Epoch 35/150\n",
      "55/55 - 0s - loss: 0.8029 - accuracy: 0.7381 - 173ms/epoch - 3ms/step\n",
      "Epoch 36/150\n",
      "55/55 - 0s - loss: 0.7888 - accuracy: 0.7437 - 169ms/epoch - 3ms/step\n",
      "Epoch 37/150\n",
      "55/55 - 0s - loss: 0.7632 - accuracy: 0.7557 - 180ms/epoch - 3ms/step\n",
      "Epoch 38/150\n",
      "55/55 - 0s - loss: 0.7513 - accuracy: 0.7642 - 173ms/epoch - 3ms/step\n",
      "Epoch 39/150\n",
      "55/55 - 0s - loss: 0.7282 - accuracy: 0.7722 - 195ms/epoch - 4ms/step\n",
      "Epoch 40/150\n",
      "55/55 - 0s - loss: 0.7053 - accuracy: 0.7858 - 207ms/epoch - 4ms/step\n",
      "Epoch 41/150\n",
      "55/55 - 0s - loss: 0.6888 - accuracy: 0.7858 - 197ms/epoch - 4ms/step\n",
      "Epoch 42/150\n",
      "55/55 - 0s - loss: 0.6690 - accuracy: 0.7898 - 211ms/epoch - 4ms/step\n",
      "Epoch 43/150\n",
      "55/55 - 0s - loss: 0.6495 - accuracy: 0.8040 - 229ms/epoch - 4ms/step\n",
      "Epoch 44/150\n",
      "55/55 - 0s - loss: 0.6303 - accuracy: 0.8114 - 234ms/epoch - 4ms/step\n",
      "Epoch 45/150\n",
      "55/55 - 0s - loss: 0.6146 - accuracy: 0.8267 - 248ms/epoch - 5ms/step\n",
      "Epoch 46/150\n",
      "55/55 - 0s - loss: 0.5991 - accuracy: 0.8335 - 217ms/epoch - 4ms/step\n",
      "Epoch 47/150\n",
      "55/55 - 0s - loss: 0.5853 - accuracy: 0.8347 - 208ms/epoch - 4ms/step\n",
      "Epoch 48/150\n",
      "55/55 - 0s - loss: 0.5727 - accuracy: 0.8318 - 215ms/epoch - 4ms/step\n",
      "Epoch 49/150\n",
      "55/55 - 0s - loss: 0.5549 - accuracy: 0.8420 - 222ms/epoch - 4ms/step\n",
      "Epoch 50/150\n",
      "55/55 - 0s - loss: 0.5472 - accuracy: 0.8364 - 217ms/epoch - 4ms/step\n",
      "Epoch 51/150\n",
      "55/55 - 0s - loss: 0.5355 - accuracy: 0.8494 - 251ms/epoch - 5ms/step\n",
      "Epoch 52/150\n",
      "55/55 - 0s - loss: 0.5349 - accuracy: 0.8420 - 197ms/epoch - 4ms/step\n",
      "Epoch 53/150\n",
      "55/55 - 0s - loss: 0.5133 - accuracy: 0.8466 - 208ms/epoch - 4ms/step\n",
      "Epoch 54/150\n",
      "55/55 - 0s - loss: 0.5082 - accuracy: 0.8534 - 178ms/epoch - 3ms/step\n",
      "Epoch 55/150\n",
      "55/55 - 0s - loss: 0.4973 - accuracy: 0.8545 - 189ms/epoch - 3ms/step\n",
      "Epoch 56/150\n",
      "55/55 - 0s - loss: 0.4817 - accuracy: 0.8534 - 164ms/epoch - 3ms/step\n",
      "Epoch 57/150\n",
      "55/55 - 0s - loss: 0.4726 - accuracy: 0.8574 - 218ms/epoch - 4ms/step\n",
      "Epoch 58/150\n",
      "55/55 - 0s - loss: 0.4611 - accuracy: 0.8591 - 174ms/epoch - 3ms/step\n",
      "Epoch 59/150\n",
      "55/55 - 0s - loss: 0.4508 - accuracy: 0.8648 - 174ms/epoch - 3ms/step\n",
      "Epoch 60/150\n",
      "55/55 - 0s - loss: 0.4465 - accuracy: 0.8670 - 180ms/epoch - 3ms/step\n",
      "Epoch 61/150\n",
      "55/55 - 0s - loss: 0.4346 - accuracy: 0.8670 - 183ms/epoch - 3ms/step\n",
      "Epoch 62/150\n",
      "55/55 - 0s - loss: 0.4285 - accuracy: 0.8665 - 181ms/epoch - 3ms/step\n",
      "Epoch 63/150\n",
      "55/55 - 0s - loss: 0.4185 - accuracy: 0.8756 - 166ms/epoch - 3ms/step\n",
      "Epoch 64/150\n",
      "55/55 - 0s - loss: 0.4113 - accuracy: 0.8778 - 198ms/epoch - 4ms/step\n",
      "Epoch 65/150\n",
      "55/55 - 0s - loss: 0.4024 - accuracy: 0.8795 - 167ms/epoch - 3ms/step\n",
      "Epoch 66/150\n",
      "55/55 - 0s - loss: 0.3987 - accuracy: 0.8767 - 217ms/epoch - 4ms/step\n",
      "Epoch 67/150\n",
      "55/55 - 0s - loss: 0.3951 - accuracy: 0.8790 - 169ms/epoch - 3ms/step\n",
      "Epoch 68/150\n",
      "55/55 - 0s - loss: 0.3796 - accuracy: 0.8847 - 174ms/epoch - 3ms/step\n",
      "Epoch 69/150\n",
      "55/55 - 0s - loss: 0.3782 - accuracy: 0.8818 - 188ms/epoch - 3ms/step\n",
      "Epoch 70/150\n",
      "55/55 - 0s - loss: 0.3770 - accuracy: 0.8795 - 204ms/epoch - 4ms/step\n",
      "Epoch 71/150\n",
      "55/55 - 0s - loss: 0.3711 - accuracy: 0.8881 - 239ms/epoch - 4ms/step\n",
      "Epoch 72/150\n",
      "55/55 - 0s - loss: 0.3701 - accuracy: 0.8835 - 162ms/epoch - 3ms/step\n",
      "Epoch 73/150\n",
      "55/55 - 0s - loss: 0.3652 - accuracy: 0.8813 - 159ms/epoch - 3ms/step\n",
      "Epoch 74/150\n",
      "55/55 - 0s - loss: 0.3524 - accuracy: 0.8892 - 179ms/epoch - 3ms/step\n",
      "Epoch 75/150\n",
      "55/55 - 0s - loss: 0.3553 - accuracy: 0.8852 - 167ms/epoch - 3ms/step\n",
      "Epoch 76/150\n",
      "55/55 - 0s - loss: 0.3562 - accuracy: 0.8892 - 158ms/epoch - 3ms/step\n",
      "Epoch 77/150\n",
      "55/55 - 0s - loss: 0.3441 - accuracy: 0.8926 - 192ms/epoch - 3ms/step\n",
      "Epoch 78/150\n",
      "55/55 - 0s - loss: 0.3391 - accuracy: 0.8938 - 212ms/epoch - 4ms/step\n",
      "Epoch 79/150\n",
      "55/55 - 0s - loss: 0.3313 - accuracy: 0.8943 - 156ms/epoch - 3ms/step\n",
      "Epoch 80/150\n",
      "55/55 - 0s - loss: 0.3355 - accuracy: 0.8955 - 187ms/epoch - 3ms/step\n",
      "Epoch 81/150\n",
      "55/55 - 0s - loss: 0.3305 - accuracy: 0.8898 - 167ms/epoch - 3ms/step\n",
      "Epoch 82/150\n",
      "55/55 - 0s - loss: 0.3294 - accuracy: 0.8949 - 176ms/epoch - 3ms/step\n",
      "Epoch 83/150\n",
      "55/55 - 0s - loss: 0.3176 - accuracy: 0.8972 - 175ms/epoch - 3ms/step\n",
      "Epoch 84/150\n",
      "55/55 - 0s - loss: 0.3140 - accuracy: 0.8972 - 190ms/epoch - 3ms/step\n",
      "Epoch 85/150\n",
      "55/55 - 0s - loss: 0.3109 - accuracy: 0.8972 - 190ms/epoch - 3ms/step\n",
      "Epoch 86/150\n",
      "55/55 - 0s - loss: 0.3159 - accuracy: 0.8932 - 186ms/epoch - 3ms/step\n",
      "Epoch 87/150\n",
      "55/55 - 0s - loss: 0.3142 - accuracy: 0.8960 - 199ms/epoch - 4ms/step\n",
      "Epoch 88/150\n",
      "55/55 - 0s - loss: 0.3085 - accuracy: 0.8955 - 190ms/epoch - 3ms/step\n",
      "Epoch 89/150\n",
      "55/55 - 0s - loss: 0.3034 - accuracy: 0.8926 - 150ms/epoch - 3ms/step\n",
      "Epoch 90/150\n",
      "55/55 - 0s - loss: 0.2968 - accuracy: 0.8943 - 158ms/epoch - 3ms/step\n",
      "Epoch 91/150\n",
      "55/55 - 0s - loss: 0.3021 - accuracy: 0.9000 - 167ms/epoch - 3ms/step\n",
      "Epoch 92/150\n",
      "55/55 - 0s - loss: 0.2937 - accuracy: 0.8960 - 155ms/epoch - 3ms/step\n",
      "Epoch 93/150\n",
      "55/55 - 0s - loss: 0.2891 - accuracy: 0.8977 - 161ms/epoch - 3ms/step\n",
      "Epoch 94/150\n",
      "55/55 - 0s - loss: 0.2847 - accuracy: 0.9011 - 150ms/epoch - 3ms/step\n",
      "Epoch 95/150\n",
      "55/55 - 0s - loss: 0.2877 - accuracy: 0.8972 - 179ms/epoch - 3ms/step\n",
      "Epoch 96/150\n",
      "55/55 - 0s - loss: 0.2833 - accuracy: 0.9034 - 168ms/epoch - 3ms/step\n",
      "Epoch 97/150\n",
      "55/55 - 0s - loss: 0.2851 - accuracy: 0.8994 - 167ms/epoch - 3ms/step\n",
      "Epoch 98/150\n",
      "55/55 - 0s - loss: 0.2860 - accuracy: 0.9023 - 179ms/epoch - 3ms/step\n",
      "Epoch 99/150\n",
      "55/55 - 0s - loss: 0.2775 - accuracy: 0.9028 - 158ms/epoch - 3ms/step\n",
      "Epoch 100/150\n",
      "55/55 - 0s - loss: 0.2816 - accuracy: 0.9034 - 148ms/epoch - 3ms/step\n",
      "Epoch 101/150\n",
      "55/55 - 0s - loss: 0.2753 - accuracy: 0.9028 - 166ms/epoch - 3ms/step\n",
      "Epoch 102/150\n",
      "55/55 - 0s - loss: 0.2728 - accuracy: 0.9023 - 159ms/epoch - 3ms/step\n",
      "Epoch 103/150\n",
      "55/55 - 0s - loss: 0.2718 - accuracy: 0.8989 - 167ms/epoch - 3ms/step\n",
      "Epoch 104/150\n",
      "55/55 - 0s - loss: 0.2694 - accuracy: 0.9023 - 154ms/epoch - 3ms/step\n",
      "Epoch 105/150\n",
      "55/55 - 0s - loss: 0.2658 - accuracy: 0.9040 - 154ms/epoch - 3ms/step\n",
      "Epoch 106/150\n",
      "55/55 - 0s - loss: 0.2653 - accuracy: 0.9045 - 153ms/epoch - 3ms/step\n",
      "Epoch 107/150\n",
      "55/55 - 0s - loss: 0.2637 - accuracy: 0.9068 - 154ms/epoch - 3ms/step\n",
      "Epoch 108/150\n",
      "55/55 - 0s - loss: 0.2604 - accuracy: 0.9108 - 171ms/epoch - 3ms/step\n",
      "Epoch 109/150\n",
      "55/55 - 0s - loss: 0.2569 - accuracy: 0.9074 - 159ms/epoch - 3ms/step\n",
      "Epoch 110/150\n",
      "55/55 - 0s - loss: 0.2576 - accuracy: 0.9102 - 167ms/epoch - 3ms/step\n",
      "Epoch 111/150\n",
      "55/55 - 0s - loss: 0.2522 - accuracy: 0.9108 - 204ms/epoch - 4ms/step\n",
      "Epoch 112/150\n",
      "55/55 - 0s - loss: 0.2548 - accuracy: 0.9028 - 173ms/epoch - 3ms/step\n",
      "Epoch 113/150\n",
      "55/55 - 0s - loss: 0.2477 - accuracy: 0.9142 - 184ms/epoch - 3ms/step\n",
      "Epoch 114/150\n",
      "55/55 - 0s - loss: 0.2363 - accuracy: 0.9114 - 170ms/epoch - 3ms/step\n",
      "Epoch 115/150\n",
      "55/55 - 0s - loss: 0.2556 - accuracy: 0.9102 - 158ms/epoch - 3ms/step\n",
      "Epoch 116/150\n",
      "55/55 - 0s - loss: 0.2492 - accuracy: 0.9102 - 190ms/epoch - 3ms/step\n",
      "Epoch 117/150\n",
      "55/55 - 0s - loss: 0.2417 - accuracy: 0.9085 - 172ms/epoch - 3ms/step\n",
      "Epoch 118/150\n",
      "55/55 - 0s - loss: 0.2451 - accuracy: 0.9125 - 154ms/epoch - 3ms/step\n",
      "Epoch 119/150\n",
      "55/55 - 0s - loss: 0.2438 - accuracy: 0.9091 - 167ms/epoch - 3ms/step\n",
      "Epoch 120/150\n",
      "55/55 - 0s - loss: 0.2331 - accuracy: 0.9153 - 136ms/epoch - 2ms/step\n",
      "Epoch 121/150\n",
      "55/55 - 0s - loss: 0.2412 - accuracy: 0.9119 - 138ms/epoch - 3ms/step\n",
      "Epoch 122/150\n",
      "55/55 - 0s - loss: 0.2345 - accuracy: 0.9114 - 188ms/epoch - 3ms/step\n",
      "Epoch 123/150\n",
      "55/55 - 0s - loss: 0.2324 - accuracy: 0.9165 - 156ms/epoch - 3ms/step\n",
      "Epoch 124/150\n",
      "55/55 - 0s - loss: 0.2372 - accuracy: 0.9131 - 218ms/epoch - 4ms/step\n",
      "Epoch 125/150\n",
      "55/55 - 0s - loss: 0.2443 - accuracy: 0.9108 - 193ms/epoch - 4ms/step\n",
      "Epoch 126/150\n",
      "55/55 - 0s - loss: 0.2279 - accuracy: 0.9159 - 193ms/epoch - 4ms/step\n",
      "Epoch 127/150\n",
      "55/55 - 0s - loss: 0.2240 - accuracy: 0.9187 - 264ms/epoch - 5ms/step\n",
      "Epoch 128/150\n",
      "55/55 - 0s - loss: 0.2267 - accuracy: 0.9193 - 249ms/epoch - 5ms/step\n",
      "Epoch 129/150\n",
      "55/55 - 0s - loss: 0.2324 - accuracy: 0.9153 - 224ms/epoch - 4ms/step\n",
      "Epoch 130/150\n",
      "55/55 - 0s - loss: 0.2382 - accuracy: 0.9091 - 239ms/epoch - 4ms/step\n",
      "Epoch 131/150\n",
      "55/55 - 0s - loss: 0.2241 - accuracy: 0.9187 - 237ms/epoch - 4ms/step\n",
      "Epoch 132/150\n",
      "55/55 - 0s - loss: 0.2241 - accuracy: 0.9193 - 204ms/epoch - 4ms/step\n",
      "Epoch 133/150\n",
      "55/55 - 0s - loss: 0.2211 - accuracy: 0.9187 - 204ms/epoch - 4ms/step\n",
      "Epoch 134/150\n",
      "55/55 - 0s - loss: 0.2196 - accuracy: 0.9187 - 248ms/epoch - 5ms/step\n",
      "Epoch 135/150\n",
      "55/55 - 0s - loss: 0.2184 - accuracy: 0.9227 - 191ms/epoch - 3ms/step\n",
      "Epoch 136/150\n",
      "55/55 - 0s - loss: 0.2182 - accuracy: 0.9239 - 204ms/epoch - 4ms/step\n",
      "Epoch 137/150\n",
      "55/55 - 0s - loss: 0.2152 - accuracy: 0.9153 - 195ms/epoch - 4ms/step\n",
      "Epoch 138/150\n",
      "55/55 - 0s - loss: 0.2124 - accuracy: 0.9199 - 277ms/epoch - 5ms/step\n",
      "Epoch 139/150\n",
      "55/55 - 0s - loss: 0.2150 - accuracy: 0.9205 - 170ms/epoch - 3ms/step\n",
      "Epoch 140/150\n",
      "55/55 - 0s - loss: 0.2257 - accuracy: 0.9182 - 149ms/epoch - 3ms/step\n",
      "Epoch 141/150\n",
      "55/55 - 0s - loss: 0.2076 - accuracy: 0.9222 - 171ms/epoch - 3ms/step\n",
      "Epoch 142/150\n",
      "55/55 - 0s - loss: 0.2070 - accuracy: 0.9239 - 156ms/epoch - 3ms/step\n",
      "Epoch 143/150\n",
      "55/55 - 0s - loss: 0.2145 - accuracy: 0.9176 - 133ms/epoch - 2ms/step\n",
      "Epoch 144/150\n",
      "55/55 - 0s - loss: 0.2138 - accuracy: 0.9170 - 152ms/epoch - 3ms/step\n",
      "Epoch 145/150\n",
      "55/55 - 0s - loss: 0.2043 - accuracy: 0.9227 - 120ms/epoch - 2ms/step\n",
      "Epoch 146/150\n",
      "55/55 - 0s - loss: 0.2051 - accuracy: 0.9250 - 100ms/epoch - 2ms/step\n",
      "Epoch 147/150\n",
      "55/55 - 0s - loss: 0.2029 - accuracy: 0.9210 - 128ms/epoch - 2ms/step\n",
      "Epoch 148/150\n",
      "55/55 - 0s - loss: 0.2051 - accuracy: 0.9233 - 148ms/epoch - 3ms/step\n",
      "Epoch 149/150\n",
      "55/55 - 0s - loss: 0.2038 - accuracy: 0.9250 - 139ms/epoch - 3ms/step\n",
      "Epoch 150/150\n",
      "55/55 - 0s - loss: 0.2088 - accuracy: 0.9233 - 141ms/epoch - 3ms/step\n"
     ]
    },
    {
     "data": {
      "text/plain": [
       "<keras.src.callbacks.History at 0x11dffd5e1d0>"
      ]
     },
     "execution_count": 12,
     "metadata": {},
     "output_type": "execute_result"
    }
   ],
   "source": [
    "model.fit(x_train,y_train, epochs=150,batch_size=32,verbose=2)"
   ]
  },
  {
   "cell_type": "code",
   "execution_count": 13,
   "id": "46acf9b7",
   "metadata": {},
   "outputs": [
    {
     "name": "stdout",
     "output_type": "stream",
     "text": [
      "14/14 - 0s - loss: 0.2707 - accuracy: 0.9068 - 320ms/epoch - 23ms/step\n",
      "Test Accuracy: 0.907\n"
     ]
    }
   ],
   "source": [
    "loss, acc = model.evaluate(x_test, y_test, verbose=2)\n",
    "print('Test Accuracy: %.3f' % acc)"
   ]
  },
  {
   "cell_type": "code",
   "execution_count": 14,
   "id": "ee2cc12c",
   "metadata": {},
   "outputs": [
    {
     "name": "stdout",
     "output_type": "stream",
     "text": [
      "        N   P   K  temperature   humidity        ph    rainfall  label\n",
      "0      90  42  43    20.879744  82.002744  6.502985  202.935536     20\n",
      "1      85  58  41    21.770462  80.319644  7.038096  226.655537     20\n",
      "2      60  55  44    23.004459  82.320763  7.840207  263.964248     20\n",
      "3      74  35  40    26.491096  80.158363  6.980401  242.864034     20\n",
      "4      78  42  42    20.130175  81.604873  7.628473  262.717340     20\n",
      "...   ...  ..  ..          ...        ...       ...         ...    ...\n",
      "2195  107  34  32    26.774637  66.413269  6.780064  177.774507      5\n",
      "2196   99  15  27    27.417112  56.636362  6.086922  127.924610      5\n",
      "2197  118  33  30    24.131797  67.225123  6.362608  173.322839      5\n",
      "2198  117  32  34    26.272418  52.127394  6.758793  127.175293      5\n",
      "2199  104  18  30    23.603016  60.396475  6.779833  140.937041      5\n",
      "\n",
      "[2200 rows x 8 columns]\n"
     ]
    }
   ],
   "source": [
    "print(df)"
   ]
  },
  {
   "cell_type": "code",
   "execution_count": 15,
   "id": "c3a819b5",
   "metadata": {},
   "outputs": [
    {
     "name": "stdout",
     "output_type": "stream",
     "text": [
      "1/1 [==============================] - 0s 161ms/step\n",
      "[8]\n"
     ]
    }
   ],
   "source": [
    "import numpy as np\n",
    "\n",
    "sample=np.array([[90,42 ,43 ,20.879744 ,82.002744 , 6.502985 , 202.935536   ]])\n",
    "prediction=model.predict(sample)\n",
    "\n",
    "predicted_class = np.argmax(prediction,axis=1)\n",
    "print(predicted_class)"
   ]
  },
  {
   "cell_type": "code",
   "execution_count": 16,
   "id": "9496688e",
   "metadata": {},
   "outputs": [
    {
     "data": {
      "text/plain": [
       "'2.14.1'"
      ]
     },
     "execution_count": 16,
     "metadata": {},
     "output_type": "execute_result"
    }
   ],
   "source": [
    "import tensorflow as tf\n",
    "tf.__version__"
   ]
  },
  {
   "cell_type": "code",
   "execution_count": 17,
   "id": "e14a76cc",
   "metadata": {},
   "outputs": [
    {
     "name": "stderr",
     "output_type": "stream",
     "text": [
      "c:\\Users\\jayak\\anaconda3\\lib\\site-packages\\keras\\src\\engine\\training.py:3079: UserWarning: You are saving your model as an HDF5 file via `model.save()`. This file format is considered legacy. We recommend using instead the native Keras format, e.g. `model.save('my_model.keras')`.\n",
      "  saving_api.save_model(\n"
     ]
    }
   ],
   "source": [
    "model.save('model.h5') # model.keras"
   ]
  },
  {
   "cell_type": "markdown",
   "id": "a047b671",
   "metadata": {},
   "source": [
    "EVALUATE PREDICTION"
   ]
  },
  {
   "cell_type": "code",
   "execution_count": 18,
   "id": "b91aead6",
   "metadata": {},
   "outputs": [],
   "source": [
    "from tensorflow.keras.models import load_model\n",
    "model = load_model('model.h5')"
   ]
  },
  {
   "cell_type": "code",
   "execution_count": 19,
   "id": "439b318d",
   "metadata": {},
   "outputs": [
    {
     "name": "stdout",
     "output_type": "stream",
     "text": [
      "Predict label: jute\n"
     ]
    }
   ],
   "source": [
    "label=st.inverse_transform(predicted_class)\n",
    "print('Predict label:',label[0])"
   ]
  },
  {
   "cell_type": "markdown",
   "id": "1805dfc2",
   "metadata": {},
   "source": [
    "SUMMARY"
   ]
  },
  {
   "cell_type": "markdown",
   "id": "cc697d9b",
   "metadata": {},
   "source": [
    "The AI-based crop recommendation model accurately predicts suitable crops based on temperature, humidity, pH, and rainfall. Using Keras and TensorFlow, the model showed a significant rise in accuracy, helping farmers make better decisions and improve productivity."
   ]
  }
 ],
 "metadata": {
  "kernelspec": {
   "display_name": "base",
   "language": "python",
   "name": "python3"
  },
  "language_info": {
   "codemirror_mode": {
    "name": "ipython",
    "version": 3
   },
   "file_extension": ".py",
   "mimetype": "text/x-python",
   "name": "python",
   "nbconvert_exporter": "python",
   "pygments_lexer": "ipython3",
   "version": "3.10.9"
  }
 },
 "nbformat": 4,
 "nbformat_minor": 5
}
